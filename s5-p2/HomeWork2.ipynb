{
 "cells": [
  {
   "cell_type": "code",
   "execution_count": 1,
   "metadata": {},
   "outputs": [],
   "source": [
    "# Import model\n",
    "import numpy as np\n",
    "import pandas as pd\n",
    "import matplotlib.pyplot as plt\n",
    "\n",
    "from sklearn.preprocessing import LabelEncoder"
   ]
  },
  {
   "cell_type": "code",
   "execution_count": 2,
   "metadata": {},
   "outputs": [
    {
     "data": {
      "text/html": [
       "<div>\n",
       "<style scoped>\n",
       "    .dataframe tbody tr th:only-of-type {\n",
       "        vertical-align: middle;\n",
       "    }\n",
       "\n",
       "    .dataframe tbody tr th {\n",
       "        vertical-align: top;\n",
       "    }\n",
       "\n",
       "    .dataframe thead th {\n",
       "        text-align: right;\n",
       "    }\n",
       "</style>\n",
       "<table border=\"1\" class=\"dataframe\">\n",
       "  <thead>\n",
       "    <tr style=\"text-align: right;\">\n",
       "      <th></th>\n",
       "      <th>name</th>\n",
       "      <th>year</th>\n",
       "      <th>selling_price</th>\n",
       "      <th>km_driven</th>\n",
       "      <th>fuel</th>\n",
       "      <th>seller_type</th>\n",
       "      <th>transmission</th>\n",
       "      <th>owner</th>\n",
       "      <th>mileage</th>\n",
       "      <th>engine</th>\n",
       "      <th>max_power</th>\n",
       "      <th>torque</th>\n",
       "      <th>seats</th>\n",
       "    </tr>\n",
       "  </thead>\n",
       "  <tbody>\n",
       "    <tr>\n",
       "      <th>0</th>\n",
       "      <td>Maruti Swift Dzire VDI</td>\n",
       "      <td>2014</td>\n",
       "      <td>450000</td>\n",
       "      <td>145500</td>\n",
       "      <td>Diesel</td>\n",
       "      <td>Individual</td>\n",
       "      <td>Manual</td>\n",
       "      <td>First Owner</td>\n",
       "      <td>23.4 kmpl</td>\n",
       "      <td>1248 CC</td>\n",
       "      <td>74 bhp</td>\n",
       "      <td>190Nm@ 2000rpm</td>\n",
       "      <td>5.0</td>\n",
       "    </tr>\n",
       "    <tr>\n",
       "      <th>1</th>\n",
       "      <td>Skoda Rapid 1.5 TDI Ambition</td>\n",
       "      <td>2014</td>\n",
       "      <td>370000</td>\n",
       "      <td>120000</td>\n",
       "      <td>Diesel</td>\n",
       "      <td>Individual</td>\n",
       "      <td>Manual</td>\n",
       "      <td>Second Owner</td>\n",
       "      <td>21.14 kmpl</td>\n",
       "      <td>1498 CC</td>\n",
       "      <td>103.52 bhp</td>\n",
       "      <td>250Nm@ 1500-2500rpm</td>\n",
       "      <td>5.0</td>\n",
       "    </tr>\n",
       "    <tr>\n",
       "      <th>2</th>\n",
       "      <td>Honda City 2017-2020 EXi</td>\n",
       "      <td>2006</td>\n",
       "      <td>158000</td>\n",
       "      <td>140000</td>\n",
       "      <td>Petrol</td>\n",
       "      <td>Individual</td>\n",
       "      <td>Manual</td>\n",
       "      <td>Third Owner</td>\n",
       "      <td>17.7 kmpl</td>\n",
       "      <td>1497 CC</td>\n",
       "      <td>78 bhp</td>\n",
       "      <td>12.7@ 2,700(kgm@ rpm)</td>\n",
       "      <td>5.0</td>\n",
       "    </tr>\n",
       "    <tr>\n",
       "      <th>3</th>\n",
       "      <td>Hyundai i20 Sportz Diesel</td>\n",
       "      <td>2010</td>\n",
       "      <td>225000</td>\n",
       "      <td>127000</td>\n",
       "      <td>Diesel</td>\n",
       "      <td>Individual</td>\n",
       "      <td>Manual</td>\n",
       "      <td>First Owner</td>\n",
       "      <td>23.0 kmpl</td>\n",
       "      <td>1396 CC</td>\n",
       "      <td>90 bhp</td>\n",
       "      <td>22.4 kgm at 1750-2750rpm</td>\n",
       "      <td>5.0</td>\n",
       "    </tr>\n",
       "    <tr>\n",
       "      <th>4</th>\n",
       "      <td>Maruti Swift VXI BSIII</td>\n",
       "      <td>2007</td>\n",
       "      <td>130000</td>\n",
       "      <td>120000</td>\n",
       "      <td>Petrol</td>\n",
       "      <td>Individual</td>\n",
       "      <td>Manual</td>\n",
       "      <td>First Owner</td>\n",
       "      <td>16.1 kmpl</td>\n",
       "      <td>1298 CC</td>\n",
       "      <td>88.2 bhp</td>\n",
       "      <td>11.5@ 4,500(kgm@ rpm)</td>\n",
       "      <td>5.0</td>\n",
       "    </tr>\n",
       "  </tbody>\n",
       "</table>\n",
       "</div>"
      ],
      "text/plain": [
       "                           name  year  selling_price  km_driven    fuel  \\\n",
       "0        Maruti Swift Dzire VDI  2014         450000     145500  Diesel   \n",
       "1  Skoda Rapid 1.5 TDI Ambition  2014         370000     120000  Diesel   \n",
       "2      Honda City 2017-2020 EXi  2006         158000     140000  Petrol   \n",
       "3     Hyundai i20 Sportz Diesel  2010         225000     127000  Diesel   \n",
       "4        Maruti Swift VXI BSIII  2007         130000     120000  Petrol   \n",
       "\n",
       "  seller_type transmission         owner     mileage   engine   max_power  \\\n",
       "0  Individual       Manual   First Owner   23.4 kmpl  1248 CC      74 bhp   \n",
       "1  Individual       Manual  Second Owner  21.14 kmpl  1498 CC  103.52 bhp   \n",
       "2  Individual       Manual   Third Owner   17.7 kmpl  1497 CC      78 bhp   \n",
       "3  Individual       Manual   First Owner   23.0 kmpl  1396 CC      90 bhp   \n",
       "4  Individual       Manual   First Owner   16.1 kmpl  1298 CC    88.2 bhp   \n",
       "\n",
       "                     torque  seats  \n",
       "0            190Nm@ 2000rpm    5.0  \n",
       "1       250Nm@ 1500-2500rpm    5.0  \n",
       "2     12.7@ 2,700(kgm@ rpm)    5.0  \n",
       "3  22.4 kgm at 1750-2750rpm    5.0  \n",
       "4     11.5@ 4,500(kgm@ rpm)    5.0  "
      ]
     },
     "execution_count": 2,
     "metadata": {},
     "output_type": "execute_result"
    }
   ],
   "source": [
    "data = pd.read_csv(\"used_cars.csv\")\n",
    "data.head()"
   ]
  },
  {
   "cell_type": "markdown",
   "metadata": {},
   "source": [
    "# preprocessing"
   ]
  },
  {
   "cell_type": "code",
   "execution_count": 3,
   "metadata": {},
   "outputs": [
    {
     "name": "stdout",
     "output_type": "stream",
     "text": [
      "<class 'pandas.core.frame.DataFrame'>\n",
      "RangeIndex: 8128 entries, 0 to 8127\n",
      "Data columns (total 13 columns):\n",
      " #   Column         Non-Null Count  Dtype  \n",
      "---  ------         --------------  -----  \n",
      " 0   name           8128 non-null   object \n",
      " 1   year           8128 non-null   int64  \n",
      " 2   selling_price  8128 non-null   int64  \n",
      " 3   km_driven      8128 non-null   int64  \n",
      " 4   fuel           8128 non-null   object \n",
      " 5   seller_type    8128 non-null   object \n",
      " 6   transmission   8128 non-null   object \n",
      " 7   owner          8128 non-null   object \n",
      " 8   mileage        7907 non-null   object \n",
      " 9   engine         7907 non-null   object \n",
      " 10  max_power      7913 non-null   object \n",
      " 11  torque         7906 non-null   object \n",
      " 12  seats          7907 non-null   float64\n",
      "dtypes: float64(1), int64(3), object(9)\n",
      "memory usage: 825.6+ KB\n"
     ]
    }
   ],
   "source": [
    "data.info()"
   ]
  },
  {
   "cell_type": "code",
   "execution_count": 4,
   "metadata": {},
   "outputs": [],
   "source": [
    "# remove string noise\n",
    "def change_value(value,noise:str):\n",
    "    if isinstance(value,int) or isinstance(value,float) :\n",
    "        return value\n",
    "    \n",
    "    if value == \"\" :\n",
    "        return np.nan\n",
    "    \n",
    "    try :\n",
    "        return float(str(value).replace(noise,\"\"))\n",
    "    except :\n",
    "        return np.nan"
   ]
  },
  {
   "cell_type": "code",
   "execution_count": 5,
   "metadata": {},
   "outputs": [
    {
     "data": {
      "text/html": [
       "<div>\n",
       "<style scoped>\n",
       "    .dataframe tbody tr th:only-of-type {\n",
       "        vertical-align: middle;\n",
       "    }\n",
       "\n",
       "    .dataframe tbody tr th {\n",
       "        vertical-align: top;\n",
       "    }\n",
       "\n",
       "    .dataframe thead th {\n",
       "        text-align: right;\n",
       "    }\n",
       "</style>\n",
       "<table border=\"1\" class=\"dataframe\">\n",
       "  <thead>\n",
       "    <tr style=\"text-align: right;\">\n",
       "      <th></th>\n",
       "      <th>year</th>\n",
       "      <th>selling_price</th>\n",
       "      <th>km_driven</th>\n",
       "      <th>fuel</th>\n",
       "      <th>seller_type</th>\n",
       "      <th>transmission</th>\n",
       "      <th>owner</th>\n",
       "      <th>mileage</th>\n",
       "      <th>engine</th>\n",
       "      <th>max_power</th>\n",
       "      <th>seats</th>\n",
       "    </tr>\n",
       "  </thead>\n",
       "  <tbody>\n",
       "    <tr>\n",
       "      <th>0</th>\n",
       "      <td>2014</td>\n",
       "      <td>450000</td>\n",
       "      <td>145500</td>\n",
       "      <td>1</td>\n",
       "      <td>1</td>\n",
       "      <td>1</td>\n",
       "      <td>0</td>\n",
       "      <td>23.40</td>\n",
       "      <td>1248.0</td>\n",
       "      <td>74.00</td>\n",
       "      <td>5.0</td>\n",
       "    </tr>\n",
       "    <tr>\n",
       "      <th>1</th>\n",
       "      <td>2014</td>\n",
       "      <td>370000</td>\n",
       "      <td>120000</td>\n",
       "      <td>1</td>\n",
       "      <td>1</td>\n",
       "      <td>1</td>\n",
       "      <td>2</td>\n",
       "      <td>21.14</td>\n",
       "      <td>1498.0</td>\n",
       "      <td>103.52</td>\n",
       "      <td>5.0</td>\n",
       "    </tr>\n",
       "    <tr>\n",
       "      <th>2</th>\n",
       "      <td>2006</td>\n",
       "      <td>158000</td>\n",
       "      <td>140000</td>\n",
       "      <td>3</td>\n",
       "      <td>1</td>\n",
       "      <td>1</td>\n",
       "      <td>4</td>\n",
       "      <td>17.70</td>\n",
       "      <td>1497.0</td>\n",
       "      <td>78.00</td>\n",
       "      <td>5.0</td>\n",
       "    </tr>\n",
       "    <tr>\n",
       "      <th>3</th>\n",
       "      <td>2010</td>\n",
       "      <td>225000</td>\n",
       "      <td>127000</td>\n",
       "      <td>1</td>\n",
       "      <td>1</td>\n",
       "      <td>1</td>\n",
       "      <td>0</td>\n",
       "      <td>23.00</td>\n",
       "      <td>1396.0</td>\n",
       "      <td>90.00</td>\n",
       "      <td>5.0</td>\n",
       "    </tr>\n",
       "    <tr>\n",
       "      <th>4</th>\n",
       "      <td>2007</td>\n",
       "      <td>130000</td>\n",
       "      <td>120000</td>\n",
       "      <td>3</td>\n",
       "      <td>1</td>\n",
       "      <td>1</td>\n",
       "      <td>0</td>\n",
       "      <td>16.10</td>\n",
       "      <td>1298.0</td>\n",
       "      <td>88.20</td>\n",
       "      <td>5.0</td>\n",
       "    </tr>\n",
       "  </tbody>\n",
       "</table>\n",
       "</div>"
      ],
      "text/plain": [
       "   year  selling_price  km_driven  fuel  seller_type  transmission  owner  \\\n",
       "0  2014         450000     145500     1            1             1      0   \n",
       "1  2014         370000     120000     1            1             1      2   \n",
       "2  2006         158000     140000     3            1             1      4   \n",
       "3  2010         225000     127000     1            1             1      0   \n",
       "4  2007         130000     120000     3            1             1      0   \n",
       "\n",
       "   mileage  engine  max_power  seats  \n",
       "0    23.40  1248.0      74.00    5.0  \n",
       "1    21.14  1498.0     103.52    5.0  \n",
       "2    17.70  1497.0      78.00    5.0  \n",
       "3    23.00  1396.0      90.00    5.0  \n",
       "4    16.10  1298.0      88.20    5.0  "
      ]
     },
     "execution_count": 5,
     "metadata": {},
     "output_type": "execute_result"
    }
   ],
   "source": [
    "# convert string values to numberic\n",
    "\n",
    "data.drop(\"torque\",axis=1,inplace=True)\n",
    "data.drop(\"name\",axis=1,inplace=True)\n",
    "\n",
    "\n",
    "data[\"mileage\"] = data[\"mileage\"].apply(lambda value : change_value(value,\" kmpl\"))\n",
    "data[\"engine\"] = data[\"engine\"].apply(lambda value : change_value(value,\" CC\"))\n",
    "data[\"max_power\"] = data[\"max_power\"].apply(lambda value : change_value(value,\" bhp\"))\n",
    "\n",
    "data[\"fuel\"] = LabelEncoder().fit_transform(data[\"fuel\"])\n",
    "data[\"seller_type\"] = LabelEncoder().fit_transform(data[\"seller_type\"])\n",
    "data[\"transmission\"] = LabelEncoder().fit_transform(data[\"transmission\"])\n",
    "data[\"owner\"] = LabelEncoder().fit_transform(data[\"owner\"])\n",
    "\n",
    "data.head()"
   ]
  },
  {
   "cell_type": "code",
   "execution_count": 6,
   "metadata": {},
   "outputs": [
    {
     "name": "stdout",
     "output_type": "stream",
     "text": [
      "<class 'pandas.core.frame.DataFrame'>\n",
      "RangeIndex: 8128 entries, 0 to 8127\n",
      "Data columns (total 11 columns):\n",
      " #   Column         Non-Null Count  Dtype  \n",
      "---  ------         --------------  -----  \n",
      " 0   year           8128 non-null   int64  \n",
      " 1   selling_price  8128 non-null   int64  \n",
      " 2   km_driven      8128 non-null   int64  \n",
      " 3   fuel           8128 non-null   int32  \n",
      " 4   seller_type    8128 non-null   int32  \n",
      " 5   transmission   8128 non-null   int32  \n",
      " 6   owner          8128 non-null   int32  \n",
      " 7   mileage        7819 non-null   float64\n",
      " 8   engine         7907 non-null   float64\n",
      " 9   max_power      7912 non-null   float64\n",
      " 10  seats          7907 non-null   float64\n",
      "dtypes: float64(4), int32(4), int64(3)\n",
      "memory usage: 571.6 KB\n"
     ]
    }
   ],
   "source": [
    "data.info()"
   ]
  },
  {
   "cell_type": "code",
   "execution_count": 7,
   "metadata": {},
   "outputs": [
    {
     "name": "stdout",
     "output_type": "stream",
     "text": [
      "<class 'pandas.core.frame.DataFrame'>\n",
      "RangeIndex: 8128 entries, 0 to 8127\n",
      "Data columns (total 11 columns):\n",
      " #   Column         Non-Null Count  Dtype  \n",
      "---  ------         --------------  -----  \n",
      " 0   year           8128 non-null   int64  \n",
      " 1   selling_price  8128 non-null   int64  \n",
      " 2   km_driven      8128 non-null   int64  \n",
      " 3   fuel           8128 non-null   int32  \n",
      " 4   seller_type    8128 non-null   int32  \n",
      " 5   transmission   8128 non-null   int32  \n",
      " 6   owner          8128 non-null   int32  \n",
      " 7   mileage        8128 non-null   float64\n",
      " 8   engine         8128 non-null   float64\n",
      " 9   max_power      8128 non-null   float64\n",
      " 10  seats          8128 non-null   float64\n",
      "dtypes: float64(4), int32(4), int64(3)\n",
      "memory usage: 571.6 KB\n"
     ]
    }
   ],
   "source": [
    "# fill nans\n",
    "data = data.fillna(value={\n",
    "    \"mileage\" : data[\"mileage\"].mean(),\n",
    "    \"engine\" : data[\"engine\"].mean(),\n",
    "    \"max_power\" : data[\"max_power\"].mean(),\n",
    "    \"seats\" : data[\"seats\"].mean(),\n",
    "    \n",
    "})\n",
    "\n",
    "data.info()"
   ]
  },
  {
   "cell_type": "markdown",
   "metadata": {},
   "source": [
    "# ploting"
   ]
  },
  {
   "cell_type": "code",
   "execution_count": 8,
   "metadata": {},
   "outputs": [
    {
     "data": {
      "text/plain": [
       "([], [])"
      ]
     },
     "execution_count": 8,
     "metadata": {},
     "output_type": "execute_result"
    },
    {
     "data": {
      "image/png": "[encoded data removed]",
      "text/plain": [
       "<Figure size 640x480 with 1 Axes>"
      ]
     },
     "metadata": {},
     "output_type": "display_data"
    }
   ],
   "source": [
    "plt.scatter(data[\"km_driven\"],data[\"selling_price\"])\n",
    "plt.xlabel(\"km driven\")\n",
    "plt.ylabel(\"selling price\")\n",
    "plt.xticks([])\n",
    "plt.yticks([])"
   ]
  },
  {
   "cell_type": "code",
   "execution_count": 9,
   "metadata": {},
   "outputs": [
    {
     "data": {
      "text/plain": [
       "(array([4.820e+03, 2.498e+03, 2.900e+02, 1.620e+02, 5.900e+01, 7.000e+01,\n",
       "        5.500e+01, 4.400e+01, 1.100e+01, 2.000e+00, 1.010e+02, 1.200e+01,\n",
       "        1.000e+00, 1.000e+00, 1.000e+00, 0.000e+00, 0.000e+00, 0.000e+00,\n",
       "        0.000e+00, 1.000e+00]),\n",
       " array([   29999.  ,   528499.05,  1026999.1 ,  1525499.15,  2023999.2 ,\n",
       "         2522499.25,  3020999.3 ,  3519499.35,  4017999.4 ,  4516499.45,\n",
       "         5014999.5 ,  5513499.55,  6011999.6 ,  6510499.65,  7008999.7 ,\n",
       "         7507499.75,  8005999.8 ,  8504499.85,  9002999.9 ,  9501499.95,\n",
       "        10000000.  ]),\n",
       " <BarContainer object of 20 artists>)"
      ]
     },
     "execution_count": 9,
     "metadata": {},
     "output_type": "execute_result"
    },
    {
     "data": {
      "image/png": "[encoded data removed]",
      "text/plain": [
       "<Figure size 640x480 with 1 Axes>"
      ]
     },
     "metadata": {},
     "output_type": "display_data"
    }
   ],
   "source": [
    "# hist of `selling price` with 20 bins\n",
    "plt.hist(data[\"selling_price\"],bins=20)"
   ]
  },
  {
   "cell_type": "markdown",
   "metadata": {},
   "source": [
    "# ML"
   ]
  },
  {
   "cell_type": "markdown",
   "metadata": {},
   "source": [
    "* # تک متغیره"
   ]
  },
  {
   "cell_type": "code",
   "execution_count": 37,
   "metadata": {},
   "outputs": [],
   "source": [
    "from sklearn.model_selection import train_test_split,GridSearchCV\n",
    "from sklearn.preprocessing import StandardScaler\n",
    "from sklearn.linear_model import LinearRegression\n",
    "from sklearn.preprocessing import PolynomialFeatures\n",
    "from sklearn.linear_model import Ridge,Lasso,ElasticNet\n",
    "\n",
    "\n",
    "from sklearn.metrics import r2_score,mean_squared_error"
   ]
  },
  {
   "cell_type": "code",
   "execution_count": 20,
   "metadata": {},
   "outputs": [
    {
     "name": "stdout",
     "output_type": "stream",
     "text": [
      "Split data ...\n",
      "Make data scale ...\n",
      "Defind and fit model ...\n",
      "Validation :\n",
      "\n",
      "\n",
      "R2  : -329049917.67147493\n",
      "MSE : 2.1568710180557396e+20\n"
     ]
    }
   ],
   "source": [
    "x = data[\"km_driven\"].values.reshape(-1,1)\n",
    "y = data[\"selling_price\"].values\n",
    "\n",
    "print(\"Split data ...\")\n",
    "x_train,x_test,y_train,y_test = train_test_split(x,y,test_size=0.2,random_state=42)\n",
    "\n",
    "print(\"Make data scale ...\")\n",
    "sc = StandardScaler()\n",
    "x_train_scale = sc.fit_transform(x_train)\n",
    "x_test_scale  = sc.transform(x_test)\n",
    "\n",
    "print(\"Defind and fit model ...\")\n",
    "model = LinearRegression()\n",
    "model.fit(x_train_scale,y_train)\n",
    "\n",
    "print(\"Validation :\\n\\n\")\n",
    "y_pre = model.predict(x_test)\n",
    "\n",
    "print(f\"R2  : {r2_score(y_test,y_pre)}\")\n",
    "print(f\"MSE : {mean_squared_error(y_test,y_pre)}\")"
   ]
  },
  {
   "cell_type": "markdown",
   "metadata": {},
   "source": [
    "* # چند متغیره"
   ]
  },
  {
   "cell_type": "code",
   "execution_count": 30,
   "metadata": {},
   "outputs": [
    {
     "name": "stdout",
     "output_type": "stream",
     "text": [
      "Split data ...\n",
      "Make data scale ...\n",
      "Defind and fit model ...\n",
      "Validation :\n",
      "\n",
      "\n",
      "R2  : -32849110.472226765\n",
      "MSE : 2.153208145116319e+19\n"
     ]
    }
   ],
   "source": [
    "custom_column_list = list(data.columns)\n",
    "custom_column_list.remove(\"selling_price\")\n",
    "\n",
    "x = data[custom_column_list].values\n",
    "y = data[\"selling_price\"].values\n",
    "\n",
    "print(\"Split data ...\")\n",
    "x_train,x_test,y_train,y_test = train_test_split(x,y,test_size=0.2,random_state=42)\n",
    "\n",
    "print(\"Make data scale ...\")\n",
    "sc = StandardScaler()\n",
    "x_train_scale = sc.fit_transform(x_train)\n",
    "x_test_scale  = sc.transform(x_test)\n",
    "\n",
    "print(\"Defind and fit model ...\")\n",
    "model = LinearRegression()\n",
    "model.fit(x_train_scale,y_train)\n",
    "\n",
    "print(\"Validation :\\n\\n\")\n",
    "y_pre = model.predict(x_test)\n",
    "\n",
    "print(f\"R2  : {r2_score(y_test,y_pre)}\")\n",
    "print(f\"MSE : {mean_squared_error(y_test,y_pre)}\")"
   ]
  },
  {
   "cell_type": "markdown",
   "metadata": {},
   "source": [
    "* # چند جمله ای"
   ]
  },
  {
   "cell_type": "code",
   "execution_count": 36,
   "metadata": {},
   "outputs": [
    {
     "name": "stdout",
     "output_type": "stream",
     "text": [
      "Split data ...\n",
      "Make data polynomial ...\n",
      "Make data scale ...\n",
      "Defind and fit model ...\n",
      "Validation :\n",
      "\n",
      "\n",
      "R2  : -2.2713621770622671e+18\n",
      "MSE : 1.4888425655879934e+30\n"
     ]
    }
   ],
   "source": [
    "custom_column_list = list(data.columns)\n",
    "custom_column_list.remove(\"selling_price\")\n",
    "\n",
    "x = data[custom_column_list].values\n",
    "y = data[\"selling_price\"].values\n",
    "\n",
    "print(\"Split data ...\")\n",
    "x_train,x_test,y_train,y_test = train_test_split(x,y,test_size=0.2,random_state=42)\n",
    "\n",
    "print(\"Make data polynomial ...\")\n",
    "pf = PolynomialFeatures(include_bias=False)\n",
    "x_train = pf.fit_transform(x_train)\n",
    "x_test  = pf.fit_transform(x_test)\n",
    "\n",
    "print(\"Make data scale ...\")\n",
    "sc = StandardScaler()\n",
    "x_train_scale = sc.fit_transform(x_train)\n",
    "x_test_scale  = sc.transform(x_test)\n",
    "\n",
    "print(\"Defind and fit model ...\")\n",
    "model = LinearRegression()\n",
    "model.fit(x_train_scale,y_train)\n",
    "\n",
    "print(\"Validation :\\n\\n\")\n",
    "y_pre = model.predict(x_test)\n",
    "\n",
    "print(f\"R2  : {r2_score(y_test,y_pre)}\")\n",
    "print(f\"MSE : {mean_squared_error(y_test,y_pre)}\")"
   ]
  },
  {
   "cell_type": "markdown",
   "metadata": {},
   "source": [
    "* # Ridge"
   ]
  },
  {
   "cell_type": "code",
   "execution_count": 47,
   "metadata": {},
   "outputs": [
    {
     "name": "stdout",
     "output_type": "stream",
     "text": [
      "Split data ...\n",
      "Make data scale ...\n",
      "Defind and fit model ...\n",
      "Validation :\n",
      "\n",
      "\tR2         : 0.6862514763856573\n",
      "\tMSE        : 205657275429.13882\n",
      "\tBest param : {'alpha': 50}\n"
     ]
    }
   ],
   "source": [
    "# Ridge\n",
    "\n",
    "custom_column_list = list(data.columns)\n",
    "custom_column_list.remove(\"selling_price\")\n",
    "\n",
    "x = data[custom_column_list].values\n",
    "y = data[\"selling_price\"].values\n",
    "\n",
    "\n",
    "print(\"Split data ...\")\n",
    "x_train,x_test,y_train,y_test = train_test_split(x,y,test_size=0.2,random_state=42)\n",
    "\n",
    "\n",
    "print(\"Make data scale ...\")\n",
    "sc = StandardScaler()\n",
    "x_train_scale = sc.fit_transform(x_train)\n",
    "x_test_scale  = sc.transform(x_test)\n",
    "\n",
    "\n",
    "print(\"Defind and fit model ...\")\n",
    "model = Ridge()\n",
    "gs = GridSearchCV(model,{\n",
    "    \"alpha\":[0.001,0.05,0.1,0.5,1,10,50,100,150,200]\n",
    "},cv=5)\n",
    "\n",
    "gs.fit(x_train_scale,y_train)\n",
    "\n",
    "\n",
    "print(\"Validation :\\n\")\n",
    "y_pre = gs.predict(x_test_scale)\n",
    "\n",
    "print(f\"\\tR2         : {r2_score(y_test,y_pre)}\")\n",
    "print(f\"\\tMSE        : {mean_squared_error(y_test,y_pre)}\")\n",
    "print(f\"\\tBest param : {gs.best_params_}\")"
   ]
  },
  {
   "cell_type": "markdown",
   "metadata": {},
   "source": [
    "* # Lasso"
   ]
  },
  {
   "cell_type": "code",
   "execution_count": 48,
   "metadata": {},
   "outputs": [
    {
     "name": "stdout",
     "output_type": "stream",
     "text": [
      "Split data ...\n",
      "Make data scale ...\n",
      "Defind and fit model ...\n",
      "Validation :\n",
      "\n",
      "\tR2         : 0.685571189939777\n",
      "\tMSE        : 206103192609.43158\n",
      "\tBest param : {'alpha': 5000}\n"
     ]
    }
   ],
   "source": [
    "# Lasso\n",
    "\n",
    "custom_column_list = list(data.columns)\n",
    "custom_column_list.remove(\"selling_price\")\n",
    "\n",
    "x = data[custom_column_list].values\n",
    "y = data[\"selling_price\"].values\n",
    "\n",
    "\n",
    "print(\"Split data ...\")\n",
    "x_train,x_test,y_train,y_test = train_test_split(x,y,test_size=0.2,random_state=42)\n",
    "\n",
    "\n",
    "print(\"Make data scale ...\")\n",
    "sc = StandardScaler()\n",
    "x_train_scale = sc.fit_transform(x_train)\n",
    "x_test_scale  = sc.transform(x_test)\n",
    "\n",
    "\n",
    "print(\"Defind and fit model ...\")\n",
    "model = Lasso()\n",
    "gs = GridSearchCV(model,{\n",
    "    \"alpha\":[0.001,0.05,0.1,0.5,1,10,50,100,150,200,500,1000,2000,5000]\n",
    "},cv=5)\n",
    "\n",
    "gs.fit(x_train_scale,y_train)\n",
    "\n",
    "\n",
    "print(\"Validation :\\n\")\n",
    "y_pre = gs.predict(x_test_scale)\n",
    "\n",
    "print(f\"\\tR2         : {r2_score(y_test,y_pre)}\")\n",
    "print(f\"\\tMSE        : {mean_squared_error(y_test,y_pre)}\")\n",
    "print(f\"\\tBest param : {gs.best_params_}\")"
   ]
  },
  {
   "cell_type": "markdown",
   "metadata": {},
   "source": [
    "* # ElasticNet"
   ]
  },
  {
   "cell_type": "code",
   "execution_count": 49,
   "metadata": {},
   "outputs": [
    {
     "name": "stdout",
     "output_type": "stream",
     "text": [
      "Split data ...\n",
      "Make data scale ...\n",
      "Defind and fit model ...\n",
      "Validation :\n",
      "\n",
      "\tR2         : 0.6862001368159321\n",
      "\tMSE        : 205690927718.27084\n",
      "\tBest param : {'alpha': 0.1, 'l1_ratio': 0.9}\n"
     ]
    }
   ],
   "source": [
    "# ElasticNet\n",
    "\n",
    "custom_column_list = list(data.columns)\n",
    "custom_column_list.remove(\"selling_price\")\n",
    "\n",
    "x = data[custom_column_list].values\n",
    "y = data[\"selling_price\"].values\n",
    "\n",
    "\n",
    "print(\"Split data ...\")\n",
    "x_train,x_test,y_train,y_test = train_test_split(x,y,test_size=0.2,random_state=42)\n",
    "\n",
    "\n",
    "print(\"Make data scale ...\")\n",
    "sc = StandardScaler()\n",
    "x_train_scale = sc.fit_transform(x_train)\n",
    "x_test_scale  = sc.transform(x_test)\n",
    "\n",
    "\n",
    "print(\"Defind and fit model ...\")\n",
    "model = ElasticNet()\n",
    "gs = GridSearchCV(model,{\n",
    "    \"alpha\":[0.001,0.05,0.1,0.5,1,10,50,100,150,200,500,1000,2000,5000],\n",
    "    \"l1_ratio\" : [0.001,0.05,0.1,0.2,0.3,0.4,0.5,0.6,0.7,0.8,0.9]\n",
    "},cv=5)\n",
    "\n",
    "gs.fit(x_train_scale,y_train)\n",
    "\n",
    "\n",
    "print(\"Validation :\\n\")\n",
    "y_pre = gs.predict(x_test_scale)\n",
    "\n",
    "print(f\"\\tR2         : {r2_score(y_test,y_pre)}\")\n",
    "print(f\"\\tMSE        : {mean_squared_error(y_test,y_pre)}\")\n",
    "print(f\"\\tBest param : {gs.best_params_}\")"
   ]
  },
  {
   "cell_type": "code",
   "execution_count": 54,
   "metadata": {},
   "outputs": [
    {
     "data": {
      "text/plain": [
       "<matplotlib.legend.Legend at 0x2205b310>"
      ]
     },
     "execution_count": 54,
     "metadata": {},
     "output_type": "execute_result"
    },
    {
     "data": {
      "image/png": "[encoded data removed]",
      "text/plain": [
       "<Figure size 640x480 with 1 Axes>"
      ]
     },
     "metadata": {},
     "output_type": "display_data"
    }
   ],
   "source": [
    "# plot of ElasticNet model for prediction x_test\n",
    "plt.title(\"Predict plot in ElasticNet model\")\n",
    "plt.plot(y_test,label=\"Y-true\")\n",
    "plt.plot(y_pre,label=\"Y-pre\")\n",
    "\n",
    "plt.legend()"
   ]
  }
 ],
 "metadata": {
  "kernelspec": {
   "display_name": "Python 3",
   "language": "python",
   "name": "python3"
  },
  "language_info": {
   "codemirror_mode": {
    "name": "ipython",
    "version": 3
   },
   "file_extension": ".py",
   "mimetype": "text/x-python",
   "name": "python",
   "nbconvert_exporter": "python",
   "pygments_lexer": "ipython3",
   "version": "3.11.6"
  }
 },
 "nbformat": 4,
 "nbformat_minor": 2
}
